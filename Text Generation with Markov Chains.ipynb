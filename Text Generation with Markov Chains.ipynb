{
 "cells": [
  {
   "cell_type": "markdown",
   "metadata": {},
   "source": [
    "# Text Generation with Markov Chain\n",
    "    - States => Characters\n",
    "    - ngram"
   ]
  },
  {
   "cell_type": "code",
   "execution_count": 1,
   "metadata": {},
   "outputs": [],
   "source": [
    "import numpy as np"
   ]
  },
  {
   "cell_type": "code",
   "execution_count": 302,
   "metadata": {},
   "outputs": [],
   "source": [
    "f = open('../datasets/sherlock.txt')#open('../class_04/face_recognition.py')#\n",
    "text = f.read()\n",
    "f.close()\n"
   ]
  },
  {
   "cell_type": "code",
   "execution_count": 303,
   "metadata": {},
   "outputs": [
    {
     "name": "stdout",
     "output_type": "stream",
     "text": [
      "\n",
      "\n",
      "\n",
      "\n",
      "                          THE COMPLETE SHERLOCK HOLMES\n",
      "\n",
      "                               Arthur Conan Doyle\n",
      "\n",
      "\n",
      "\n",
      "                                Table of contents\n",
      "\n",
      "               A Study In Scarlet\n",
      "\n",
      "               The Sign of the Four\n",
      "\n",
      "                  The Adventures of Sherlock Holmes\n",
      "               A Scandal in Bohemia\n",
      "               The Red-Headed League\n",
      "               A Case of Identity\n",
      "               The Boscombe Valley Mystery\n",
      "               The Five Orange Pips\n",
      "               The Man with the Twisted Lip\n",
      "               The Adventure of the Blue Carbuncle\n",
      "               The Adventure of the Speckled Band\n",
      "               The Adventure of the Engineer's Thumb\n",
      "               The Adventure of the Noble Bachelor\n",
      "               The Adventure of the Beryl Coronet\n",
      "               The Adventure of the Copper Beeches\n",
      "\n",
      "                  The Memoirs of Sherlock Holmes\n",
      "               Silver Blaze\n",
      "               The Yellow Face\n",
      "               The Stock-Broker's Clerk\n",
      "               The \"Gloria Scott\"\n",
      "               The Musgrave Ritual\n",
      "               The Reigate Squires\n",
      "               The Crooked Man\n",
      "               The Resident Patient\n",
      "               The Greek Interpreter\n",
      "               The Naval Treaty\n",
      "               The Final Problem\n",
      "\n",
      "                  The Return of Sherlock Holmes\n",
      "               The Adventure of the Empty House\n",
      "               The Adventure of the Norwood Builder\n",
      "               The Adventure of the Dancing Men\n",
      "               The Adventure of the Solitary Cyclist\n",
      "               The Adventure of the Priory School\n",
      "               The Adventure of Black Peter\n",
      "               The Adventure of Charles Augustus Milverton\n",
      "               The Adventure of the Six Napoleons\n",
      "               The Adventure of the Three Students\n",
      "               The Adventure of the Golden Pince-Nez\n",
      "               The Adventure of the Missing Three-Quarter\n",
      "               The Adventure of the Abbey Grange\n",
      "               The Adventure of the Second Stain\n",
      "\n",
      "               The Hound of the Baskervilles\n",
      "\n",
      "               The Valley Of Fear\n",
      "\n",
      "                  His Last Bow\n",
      "               Preface\n",
      "               The Adventure of Wisteria Lodge\n",
      "               The Adventure of the Cardboard Box\n",
      "               The Adventure of the Red Circle\n",
      "               The Adventure of the Bruce-Partington Plans\n",
      "               The Adventure of the Dying Detective\n",
      "               The Disappearance of Lady Frances Carfax\n",
      "               The Adventure of the Devil's Foot\n",
      "               His Last Bow\n",
      "\n",
      "\n",
      "\n",
      "\n",
      "\n",
      "\n",
      "\n",
      "\n",
      "\n",
      "\n",
      "\n",
      "                               A STUDY IN SCARLET\n",
      "\n",
      "\n",
      "\n",
      "\n",
      "\n",
      "                                Table of contents\n",
      "\n",
      "         Part I\n",
      "        Mr. Sherlock Holmes\n",
      "        The Science Of Deduction\n",
      "        The Lauriston Garden Mystery\n",
      "        What John Rance Had To Tell\n",
      "        Our Advertisement Brings A Visitor\n",
      "        Tobias Gregson Shows What He Can Do\n",
      "        Light In The Darkness\n",
      "\n",
      "         Part II\n",
      "        On The Great Alkali Plain\n",
      "        The Flower Of Utah\n",
      "        John Ferrier Talks With The Prophet\n",
      "        A Flight For Life\n",
      "        The Avenging Angels\n",
      "        A Continuation Of The Reminiscences Of John Watson, M.D.\n",
      "        The Conclusion\n",
      "\n",
      "\n",
      "\n",
      "\n",
      "\n",
      "\n",
      "\n",
      "\n",
      "\n",
      "\n",
      "\n",
      "\n",
      "\n",
      "\n",
      "\n",
      "\n",
      "\n",
      "\n",
      "\n",
      "                                      PART I\n",
      "\n",
      "                   (Being a reprint from the reminiscences of\n",
      "                              John H. Watson, M.D.,\n",
      "                      late of the Army Medical Department.)\n",
      "\n",
      "\n",
      "\n",
      "\n",
      "\n",
      "          CHAPTER I\n",
      "          Mr. Sherlock Holmes\n",
      "\n",
      "\n",
      "     In the year 1878 I took my degree of Doctor of Medicine of the\n",
      "     University of London, and proceeded to Netley to go through the\n",
      "     course prescribed for surgeons in the army. Having completed my\n",
      "     studies there, I was duly attached to the Fifth Northumberland\n",
      "     Fusiliers as Assistant Surgeon. The regiment was stationed in India\n",
      "     at the time, and before I could join it, the second Afghan war had\n",
      "     broken out. On landing at Bombay, I learned that my corps had\n",
      "     advanced through the passes, and was already deep in the enemy's\n",
      "     country. I \n"
     ]
    }
   ],
   "source": [
    "print(text[:4000])"
   ]
  },
  {
   "cell_type": "code",
   "execution_count": 304,
   "metadata": {},
   "outputs": [],
   "source": [
    "text = text[3433:]\n"
   ]
  },
  {
   "cell_type": "code",
   "execution_count": 52,
   "metadata": {},
   "outputs": [],
   "source": [
    "#text.split('\\n')"
   ]
  },
  {
   "cell_type": "code",
   "execution_count": 261,
   "metadata": {},
   "outputs": [],
   "source": [
    "data = [each.strip() for each in text.split('\\n') if each]\n",
    "# data = data.strip()\n",
    "\n",
    "data = ' '.join(data)\n",
    "#data[:10000]"
   ]
  },
  {
   "cell_type": "code",
   "execution_count": 262,
   "metadata": {},
   "outputs": [
    {
     "data": {
      "text/plain": [
       "21758"
      ]
     },
     "execution_count": 262,
     "metadata": {},
     "output_type": "execute_result"
    }
   ],
   "source": [
    "from nltk.tokenize import word_tokenize\n",
    "len(set(word_tokenize(data)))"
   ]
  },
  {
   "cell_type": "code",
   "execution_count": 263,
   "metadata": {},
   "outputs": [
    {
     "name": "stdout",
     "output_type": "stream",
     "text": [
      "96\n"
     ]
    }
   ],
   "source": [
    "states = set(data)\n",
    "print(len(states))"
   ]
  },
  {
   "cell_type": "code",
   "execution_count": 264,
   "metadata": {},
   "outputs": [],
   "source": [
    "T = {} # Transition Matrix\n",
    "\n",
    "n = 5\n",
    "\n",
    "for i in range(len(data) - n):\n",
    "    ngram =  data[i:i+n]\n",
    "    next_state = data[i+n]\n",
    "    T_context = T.setdefault(ngram, {})\n",
    "    T_context[next_state] = T_context.setdefault(next_state, 0) + 1"
   ]
  },
  {
   "cell_type": "code",
   "execution_count": 202,
   "metadata": {},
   "outputs": [
    {
     "data": {
      "text/plain": [
       "156388"
      ]
     },
     "execution_count": 202,
     "metadata": {},
     "output_type": "execute_result"
    }
   ],
   "source": [
    "len(T.keys())"
   ]
  },
  {
   "cell_type": "code",
   "execution_count": 328,
   "metadata": {},
   "outputs": [],
   "source": [
    "#T"
   ]
  },
  {
   "cell_type": "code",
   "execution_count": 266,
   "metadata": {},
   "outputs": [],
   "source": [
    "for row in T:\n",
    "    s = sum(T[row].values())\n",
    "    for val in T[row]:\n",
    "        T[row][val] = T[row][val]/s"
   ]
  },
  {
   "cell_type": "code",
   "execution_count": 267,
   "metadata": {
    "scrolled": true
   },
   "outputs": [
    {
     "data": {
      "text/plain": [
       "{'n': 1.0}"
      ]
     },
     "execution_count": 267,
     "metadata": {},
     "output_type": "execute_result"
    }
   ],
   "source": [
    "T['Watso']"
   ]
  },
  {
   "cell_type": "code",
   "execution_count": 186,
   "metadata": {},
   "outputs": [
    {
     "name": "stdout",
     "output_type": "stream",
     "text": [
      "Second\n"
     ]
    }
   ],
   "source": [
    "r = np.random.random()\n",
    "if r <= 0.3:\n",
    "    print('First')\n",
    "elif r <= 0.7:\n",
    "    print('Second')\n",
    "else:\n",
    "    print('Third')"
   ]
  },
  {
   "cell_type": "code",
   "execution_count": 187,
   "metadata": {},
   "outputs": [
    {
     "data": {
      "text/plain": [
       "2"
      ]
     },
     "execution_count": 187,
     "metadata": {},
     "output_type": "execute_result"
    }
   ],
   "source": [
    "np.random.choice([1,2,3,4], p=[0.1,0.2,0.3,0.4])"
   ]
  },
  {
   "cell_type": "code",
   "execution_count": 308,
   "metadata": {},
   "outputs": [
    {
     "data": {
      "image/png": "[encoded data removed]",
      "text/plain": [
       "<Figure size 432x288 with 1 Axes>"
      ]
     },
     "metadata": {
      "needs_background": "light"
     },
     "output_type": "display_data"
    }
   ],
   "source": [
    "def temperature_sampling(probabilities, temp=1):\n",
    "    probabilities = np.asarray(probabilities)\n",
    "    smoothened_probs = np.exp(np.log(probabilities) / temp)\n",
    "    return list(smoothened_probs / smoothened_probs.sum())\n",
    "\n",
    "\n",
    "probs = [0.2, 0.4, 0.1, 0.03, 0.07]\n",
    "sampled = temperature_sampling(probs, 3)\n",
    "from matplotlib import pyplot as plt\n",
    "plt.figure()\n",
    "\n",
    "plt.plot(probs, 'b-', label='Prior')\n",
    "plt.plot(sampled, 'g--', label='Smoothened')\n",
    "plt.legend()\n",
    "plt.show()"
   ]
  },
  {
   "cell_type": "code",
   "execution_count": 325,
   "metadata": {},
   "outputs": [],
   "source": [
    "def predict_state(ngram, diversity=1):\n",
    "    if T.get(ngram) is None:\n",
    "        return ' '\n",
    "    mapped_ngram = T[ngram]\n",
    "    mapped_states = list(mapped_ngram.keys())\n",
    "    probabilities = list(mapped_ngram.values())\n",
    "    diversified_probs = temperature_sampling(probabilities, temp=diversity)\n",
    "    return np.random.choice(mapped_states, p=diversified_probs)"
   ]
  },
  {
   "cell_type": "code",
   "execution_count": 323,
   "metadata": {},
   "outputs": [
    {
     "data": {
      "text/plain": [
       "'t'"
      ]
     },
     "execution_count": 323,
     "metadata": {},
     "output_type": "execute_result"
    }
   ],
   "source": [
    "predict_state('furni')"
   ]
  },
  {
   "cell_type": "code",
   "execution_count": 327,
   "metadata": {},
   "outputs": [
    {
     "name": "stdout",
     "output_type": "stream",
     "text": [
      "Watson, to see not for the sky and the stairs end of seen any sort. Then I saw it had a highest is a man hard that this manner turn the fired like this agitated at the choked, and amazements and that the could have meantime is the gave a shores of the next he world a sitting on the troubled and that he man, but laughed across that he had been eyes finger a time to find the servant with a very of the came to you will stared into a clear the Boss at the Baskerville Halloa! what we made had left so far as I look some sound begun to a little with the back, you will find meet us have had take that,\" said Sherlock taking a suppose you that he is a long the straight would I did you don't knows, and I could say. \"She murderers got to night and as an eat tried the best going his help us in the house of the later was at the right, and the corridor, stand that she spoke. \"You are away with a small come to be some of the was no among the bands clear to the from the tables, gazing me when your name, and\n"
     ]
    }
   ],
   "source": [
    "def generate(initial=None, size=1000):\n",
    "    sentence = ''\n",
    "    if initial is None:\n",
    "        initial = int(np.random.random() * (len(data) - n))\n",
    "        initial = data[initial:initial+n]\n",
    "    \n",
    "    sentence += initial\n",
    "    for i in range(size):\n",
    "        pred = predict_state(initial, diversity=0.7)\n",
    "        sentence += pred\n",
    "        initial = sentence[-n:]\n",
    "\n",
    "    return sentence\n",
    "\n",
    "print(generate('Watso'))"
   ]
  }
 ],
 "metadata": {
  "kernelspec": {
   "display_name": "Python 3",
   "language": "python",
   "name": "python3"
  },
  "language_info": {
   "codemirror_mode": {
    "name": "ipython",
    "version": 3
   },
   "file_extension": ".py",
   "mimetype": "text/x-python",
   "name": "python",
   "nbconvert_exporter": "python",
   "pygments_lexer": "ipython3",
   "version": "3.7.0"
  }
 },
 "nbformat": 4,
 "nbformat_minor": 2
}
